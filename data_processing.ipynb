{
 "cells": [
  {
   "cell_type": "code",
   "execution_count": 2,
   "metadata": {
    "collapsed": true
   },
   "outputs": [],
   "source": [
    "import pandas as pd\n",
    "import numpy as np\n",
    "import requests\n",
    "import time\n",
    "import json"
   ]
  },
  {
   "cell_type": "code",
   "execution_count": 3,
   "metadata": {},
   "outputs": [
    {
     "ename": "FileNotFoundError",
     "evalue": "File b'./Data/ohio_naloxone_pharmacies.csv' does not exist",
     "output_type": "error",
     "traceback": [
      "\u001b[0;31m---------------------------------------------------------------------------\u001b[0m",
      "\u001b[0;31mFileNotFoundError\u001b[0m                         Traceback (most recent call last)",
      "\u001b[0;32m<ipython-input-3-f8301eaed42a>\u001b[0m in \u001b[0;36m<module>\u001b[0;34m()\u001b[0m\n\u001b[0;32m----> 1\u001b[0;31m \u001b[0mdf_rx\u001b[0m \u001b[0;34m=\u001b[0m \u001b[0mpd\u001b[0m\u001b[0;34m.\u001b[0m\u001b[0mread_csv\u001b[0m\u001b[0;34m(\u001b[0m\u001b[0;34m'./Data/ohio_naloxone_pharmacies.csv'\u001b[0m\u001b[0;34m)\u001b[0m\u001b[0;34m\u001b[0m\u001b[0m\n\u001b[0m",
      "\u001b[0;32m/anaconda3/lib/python3.6/site-packages/pandas/io/parsers.py\u001b[0m in \u001b[0;36mparser_f\u001b[0;34m(filepath_or_buffer, sep, delimiter, header, names, index_col, usecols, squeeze, prefix, mangle_dupe_cols, dtype, engine, converters, true_values, false_values, skipinitialspace, skiprows, nrows, na_values, keep_default_na, na_filter, verbose, skip_blank_lines, parse_dates, infer_datetime_format, keep_date_col, date_parser, dayfirst, iterator, chunksize, compression, thousands, decimal, lineterminator, quotechar, quoting, escapechar, comment, encoding, dialect, tupleize_cols, error_bad_lines, warn_bad_lines, skipfooter, skip_footer, doublequote, delim_whitespace, as_recarray, compact_ints, use_unsigned, low_memory, buffer_lines, memory_map, float_precision)\u001b[0m\n\u001b[1;32m    653\u001b[0m                     skip_blank_lines=skip_blank_lines)\n\u001b[1;32m    654\u001b[0m \u001b[0;34m\u001b[0m\u001b[0m\n\u001b[0;32m--> 655\u001b[0;31m         \u001b[0;32mreturn\u001b[0m \u001b[0m_read\u001b[0m\u001b[0;34m(\u001b[0m\u001b[0mfilepath_or_buffer\u001b[0m\u001b[0;34m,\u001b[0m \u001b[0mkwds\u001b[0m\u001b[0;34m)\u001b[0m\u001b[0;34m\u001b[0m\u001b[0m\n\u001b[0m\u001b[1;32m    656\u001b[0m \u001b[0;34m\u001b[0m\u001b[0m\n\u001b[1;32m    657\u001b[0m     \u001b[0mparser_f\u001b[0m\u001b[0;34m.\u001b[0m\u001b[0m__name__\u001b[0m \u001b[0;34m=\u001b[0m \u001b[0mname\u001b[0m\u001b[0;34m\u001b[0m\u001b[0m\n",
      "\u001b[0;32m/anaconda3/lib/python3.6/site-packages/pandas/io/parsers.py\u001b[0m in \u001b[0;36m_read\u001b[0;34m(filepath_or_buffer, kwds)\u001b[0m\n\u001b[1;32m    403\u001b[0m \u001b[0;34m\u001b[0m\u001b[0m\n\u001b[1;32m    404\u001b[0m     \u001b[0;31m# Create the parser.\u001b[0m\u001b[0;34m\u001b[0m\u001b[0;34m\u001b[0m\u001b[0m\n\u001b[0;32m--> 405\u001b[0;31m     \u001b[0mparser\u001b[0m \u001b[0;34m=\u001b[0m \u001b[0mTextFileReader\u001b[0m\u001b[0;34m(\u001b[0m\u001b[0mfilepath_or_buffer\u001b[0m\u001b[0;34m,\u001b[0m \u001b[0;34m**\u001b[0m\u001b[0mkwds\u001b[0m\u001b[0;34m)\u001b[0m\u001b[0;34m\u001b[0m\u001b[0m\n\u001b[0m\u001b[1;32m    406\u001b[0m \u001b[0;34m\u001b[0m\u001b[0m\n\u001b[1;32m    407\u001b[0m     \u001b[0;32mif\u001b[0m \u001b[0mchunksize\u001b[0m \u001b[0;32mor\u001b[0m \u001b[0miterator\u001b[0m\u001b[0;34m:\u001b[0m\u001b[0;34m\u001b[0m\u001b[0m\n",
      "\u001b[0;32m/anaconda3/lib/python3.6/site-packages/pandas/io/parsers.py\u001b[0m in \u001b[0;36m__init__\u001b[0;34m(self, f, engine, **kwds)\u001b[0m\n\u001b[1;32m    762\u001b[0m             \u001b[0mself\u001b[0m\u001b[0;34m.\u001b[0m\u001b[0moptions\u001b[0m\u001b[0;34m[\u001b[0m\u001b[0;34m'has_index_names'\u001b[0m\u001b[0;34m]\u001b[0m \u001b[0;34m=\u001b[0m \u001b[0mkwds\u001b[0m\u001b[0;34m[\u001b[0m\u001b[0;34m'has_index_names'\u001b[0m\u001b[0;34m]\u001b[0m\u001b[0;34m\u001b[0m\u001b[0m\n\u001b[1;32m    763\u001b[0m \u001b[0;34m\u001b[0m\u001b[0m\n\u001b[0;32m--> 764\u001b[0;31m         \u001b[0mself\u001b[0m\u001b[0;34m.\u001b[0m\u001b[0m_make_engine\u001b[0m\u001b[0;34m(\u001b[0m\u001b[0mself\u001b[0m\u001b[0;34m.\u001b[0m\u001b[0mengine\u001b[0m\u001b[0;34m)\u001b[0m\u001b[0;34m\u001b[0m\u001b[0m\n\u001b[0m\u001b[1;32m    765\u001b[0m \u001b[0;34m\u001b[0m\u001b[0m\n\u001b[1;32m    766\u001b[0m     \u001b[0;32mdef\u001b[0m \u001b[0mclose\u001b[0m\u001b[0;34m(\u001b[0m\u001b[0mself\u001b[0m\u001b[0;34m)\u001b[0m\u001b[0;34m:\u001b[0m\u001b[0;34m\u001b[0m\u001b[0m\n",
      "\u001b[0;32m/anaconda3/lib/python3.6/site-packages/pandas/io/parsers.py\u001b[0m in \u001b[0;36m_make_engine\u001b[0;34m(self, engine)\u001b[0m\n\u001b[1;32m    983\u001b[0m     \u001b[0;32mdef\u001b[0m \u001b[0m_make_engine\u001b[0m\u001b[0;34m(\u001b[0m\u001b[0mself\u001b[0m\u001b[0;34m,\u001b[0m \u001b[0mengine\u001b[0m\u001b[0;34m=\u001b[0m\u001b[0;34m'c'\u001b[0m\u001b[0;34m)\u001b[0m\u001b[0;34m:\u001b[0m\u001b[0;34m\u001b[0m\u001b[0m\n\u001b[1;32m    984\u001b[0m         \u001b[0;32mif\u001b[0m \u001b[0mengine\u001b[0m \u001b[0;34m==\u001b[0m \u001b[0;34m'c'\u001b[0m\u001b[0;34m:\u001b[0m\u001b[0;34m\u001b[0m\u001b[0m\n\u001b[0;32m--> 985\u001b[0;31m             \u001b[0mself\u001b[0m\u001b[0;34m.\u001b[0m\u001b[0m_engine\u001b[0m \u001b[0;34m=\u001b[0m \u001b[0mCParserWrapper\u001b[0m\u001b[0;34m(\u001b[0m\u001b[0mself\u001b[0m\u001b[0;34m.\u001b[0m\u001b[0mf\u001b[0m\u001b[0;34m,\u001b[0m \u001b[0;34m**\u001b[0m\u001b[0mself\u001b[0m\u001b[0;34m.\u001b[0m\u001b[0moptions\u001b[0m\u001b[0;34m)\u001b[0m\u001b[0;34m\u001b[0m\u001b[0m\n\u001b[0m\u001b[1;32m    986\u001b[0m         \u001b[0;32melse\u001b[0m\u001b[0;34m:\u001b[0m\u001b[0;34m\u001b[0m\u001b[0m\n\u001b[1;32m    987\u001b[0m             \u001b[0;32mif\u001b[0m \u001b[0mengine\u001b[0m \u001b[0;34m==\u001b[0m \u001b[0;34m'python'\u001b[0m\u001b[0;34m:\u001b[0m\u001b[0;34m\u001b[0m\u001b[0m\n",
      "\u001b[0;32m/anaconda3/lib/python3.6/site-packages/pandas/io/parsers.py\u001b[0m in \u001b[0;36m__init__\u001b[0;34m(self, src, **kwds)\u001b[0m\n\u001b[1;32m   1603\u001b[0m         \u001b[0mkwds\u001b[0m\u001b[0;34m[\u001b[0m\u001b[0;34m'allow_leading_cols'\u001b[0m\u001b[0;34m]\u001b[0m \u001b[0;34m=\u001b[0m \u001b[0mself\u001b[0m\u001b[0;34m.\u001b[0m\u001b[0mindex_col\u001b[0m \u001b[0;32mis\u001b[0m \u001b[0;32mnot\u001b[0m \u001b[0;32mFalse\u001b[0m\u001b[0;34m\u001b[0m\u001b[0m\n\u001b[1;32m   1604\u001b[0m \u001b[0;34m\u001b[0m\u001b[0m\n\u001b[0;32m-> 1605\u001b[0;31m         \u001b[0mself\u001b[0m\u001b[0;34m.\u001b[0m\u001b[0m_reader\u001b[0m \u001b[0;34m=\u001b[0m \u001b[0mparsers\u001b[0m\u001b[0;34m.\u001b[0m\u001b[0mTextReader\u001b[0m\u001b[0;34m(\u001b[0m\u001b[0msrc\u001b[0m\u001b[0;34m,\u001b[0m \u001b[0;34m**\u001b[0m\u001b[0mkwds\u001b[0m\u001b[0;34m)\u001b[0m\u001b[0;34m\u001b[0m\u001b[0m\n\u001b[0m\u001b[1;32m   1606\u001b[0m \u001b[0;34m\u001b[0m\u001b[0m\n\u001b[1;32m   1607\u001b[0m         \u001b[0;31m# XXX\u001b[0m\u001b[0;34m\u001b[0m\u001b[0;34m\u001b[0m\u001b[0m\n",
      "\u001b[0;32mpandas/_libs/parsers.pyx\u001b[0m in \u001b[0;36mpandas._libs.parsers.TextReader.__cinit__ (pandas/_libs/parsers.c:4209)\u001b[0;34m()\u001b[0m\n",
      "\u001b[0;32mpandas/_libs/parsers.pyx\u001b[0m in \u001b[0;36mpandas._libs.parsers.TextReader._setup_parser_source (pandas/_libs/parsers.c:8873)\u001b[0;34m()\u001b[0m\n",
      "\u001b[0;31mFileNotFoundError\u001b[0m: File b'./Data/ohio_naloxone_pharmacies.csv' does not exist"
     ]
    }
   ],
   "source": [
    "df_rx = pd.read_csv('./Data/ohio_naloxone_pharmacies.csv')"
   ]
  },
  {
   "cell_type": "code",
   "execution_count": 5,
   "metadata": {},
   "outputs": [],
   "source": [
    "df_rx_cinci = df_rx[df_rx.CountyName==\"Hamilton\"]"
   ]
  },
  {
   "cell_type": "code",
   "execution_count": 6,
   "metadata": {},
   "outputs": [
    {
     "data": {
      "text/plain": [
       "(117, 5)"
      ]
     },
     "execution_count": 6,
     "metadata": {},
     "output_type": "execute_result"
    }
   ],
   "source": [
    "df_rx_cinci.shape"
   ]
  },
  {
   "cell_type": "code",
   "execution_count": 7,
   "metadata": {},
   "outputs": [
    {
     "data": {
      "text/html": [
       "<div>\n",
       "<table border=\"1\" class=\"dataframe\">\n",
       "  <thead>\n",
       "    <tr style=\"text-align: right;\">\n",
       "      <th></th>\n",
       "      <th>CredentialNumber</th>\n",
       "      <th>Phone</th>\n",
       "      <th>BusinessName</th>\n",
       "      <th>Address</th>\n",
       "      <th>CountyName</th>\n",
       "    </tr>\n",
       "  </thead>\n",
       "  <tbody>\n",
       "    <tr>\n",
       "      <th>704</th>\n",
       "      <td>22463050</td>\n",
       "      <td>(513) 865-1184</td>\n",
       "      <td>BETHESDA NORTH APOTHECARY</td>\n",
       "      <td>10500 MONTGOMERY RD\\nCINCINNATI, OH 45242</td>\n",
       "      <td>Hamilton</td>\n",
       "    </tr>\n",
       "    <tr>\n",
       "      <th>705</th>\n",
       "      <td>22570650</td>\n",
       "      <td>(513) 671-8603</td>\n",
       "      <td>CVS PHARMACY #16422</td>\n",
       "      <td>900 E KEMPER RD\\nSPRINGDALE, OH 45246</td>\n",
       "      <td>Hamilton</td>\n",
       "    </tr>\n",
       "    <tr>\n",
       "      <th>706</th>\n",
       "      <td>22571200</td>\n",
       "      <td>(513) 631-5717</td>\n",
       "      <td>CVS PHARMACY #16779</td>\n",
       "      <td>4825A MARBURG AVE.\\nCINCINNATI, OH 45209</td>\n",
       "      <td>Hamilton</td>\n",
       "    </tr>\n",
       "    <tr>\n",
       "      <th>707</th>\n",
       "      <td>22571300</td>\n",
       "      <td>(513) 719-0038</td>\n",
       "      <td>CVS PHARMACY #16873</td>\n",
       "      <td>9040 COLERAIN AVE.\\nCINCINNATI, OH 45251</td>\n",
       "      <td>Hamilton</td>\n",
       "    </tr>\n",
       "    <tr>\n",
       "      <th>708</th>\n",
       "      <td>22572450</td>\n",
       "      <td>(513) 719-1077</td>\n",
       "      <td>CVS PHARMACY #17534</td>\n",
       "      <td>6150 GLENWAY AVE.\\nCINCINNATI, OH 45211</td>\n",
       "      <td>Hamilton</td>\n",
       "    </tr>\n",
       "  </tbody>\n",
       "</table>\n",
       "</div>"
      ],
      "text/plain": [
       "     CredentialNumber           Phone               BusinessName  \\\n",
       "704          22463050  (513) 865-1184  BETHESDA NORTH APOTHECARY   \n",
       "705          22570650  (513) 671-8603        CVS PHARMACY #16422   \n",
       "706          22571200  (513) 631-5717        CVS PHARMACY #16779   \n",
       "707          22571300  (513) 719-0038        CVS PHARMACY #16873   \n",
       "708          22572450  (513) 719-1077        CVS PHARMACY #17534   \n",
       "\n",
       "                                       Address CountyName  \n",
       "704  10500 MONTGOMERY RD\\nCINCINNATI, OH 45242   Hamilton  \n",
       "705      900 E KEMPER RD\\nSPRINGDALE, OH 45246   Hamilton  \n",
       "706   4825A MARBURG AVE.\\nCINCINNATI, OH 45209   Hamilton  \n",
       "707   9040 COLERAIN AVE.\\nCINCINNATI, OH 45251   Hamilton  \n",
       "708    6150 GLENWAY AVE.\\nCINCINNATI, OH 45211   Hamilton  "
      ]
     },
     "execution_count": 7,
     "metadata": {},
     "output_type": "execute_result"
    }
   ],
   "source": [
    "df_rx_cinci.head()"
   ]
  },
  {
   "cell_type": "code",
   "execution_count": 1,
   "metadata": {},
   "outputs": [
    {
     "ename": "NameError",
     "evalue": "name 'df_rx_cinci' is not defined",
     "output_type": "error",
     "traceback": [
      "\u001b[0;31m---------------------------------------------------------------------------\u001b[0m",
      "\u001b[0;31mNameError\u001b[0m                                 Traceback (most recent call last)",
      "\u001b[0;32m<ipython-input-1-21d91b93d6c1>\u001b[0m in \u001b[0;36m<module>\u001b[0;34m()\u001b[0m\n\u001b[0;32m----> 1\u001b[0;31m \u001b[0mdf_rx_cinci\u001b[0m\u001b[0;34m[\u001b[0m\u001b[0;34m'Address'\u001b[0m\u001b[0;34m]\u001b[0m\u001b[0;34m.\u001b[0m\u001b[0mtype\u001b[0m\u001b[0;34m(\u001b[0m\u001b[0;34m)\u001b[0m\u001b[0;34m\u001b[0m\u001b[0m\n\u001b[0m",
      "\u001b[0;31mNameError\u001b[0m: name 'df_rx_cinci' is not defined"
     ]
    }
   ],
   "source": [
    "df_rx_cinci['Address'].type()"
   ]
  },
  {
   "cell_type": "code",
   "execution_count": 89,
   "metadata": {},
   "outputs": [
    {
     "data": {
      "text/plain": [
       "{u'result': {u'addressMatches': [],\n",
       "  u'input': {u'address': {u'address': u'17 WILLIAM H. TAFT ROAD, CINCINNATI, OH 45219'},\n",
       "   u'benchmark': {u'benchmarkDescription': u'Public Address Ranges - Census 2010 Benchmark',\n",
       "    u'benchmarkName': u'Public_AR_Census2010',\n",
       "    u'id': u'9',\n",
       "    u'isDefault': False},\n",
       "   u'vintage': {u'id': u'910',\n",
       "    u'isDefault': True,\n",
       "    u'vintageDescription': u'Census2010 Vintage - Census2010 Benchmark',\n",
       "    u'vintageName': u'Census2010_Census2010'}}}}"
      ]
     },
     "execution_count": 89,
     "metadata": {},
     "output_type": "execute_result"
    }
   ],
   "source": [
    "# Single address example\n",
    "parameters = {\n",
    "    \"address\":'17 WILLIAM H. TAFT ROAD, CINCINNATI, OH 45219',#\"21 Marina Rd., Chelmsford, MA 01824\",#\"4600 Silver Hill Rd, Suitland, MD 20746\",\n",
    "    \"format\": \"json\",\n",
    "    \"searchtype\": \"onelineaddress\",\n",
    "    \"benchmark\":9,\n",
    "    \"vintage\": \"Census2010_Census2010\",\n",
    "    \"layer\": 14\n",
    "}\n",
    "#response = requests.get(\"https://geo.fcc.gov/api/census/block/find\", params=parameters)\n",
    "#response.content\n",
    "response = requests.get(\"https://geocoding.geo.census.gov/geocoder/geographies/onelineaddress\", params=parameters)\n",
    "data=response.json()\n",
    "data\n",
    "#data[\"result\"][\"addressMatches\"][0][\"geographies\"][\"Census Blocks\"][0][\"GEOID\"][:12]\n",
    "#data[\"result\"][\"addressMatches\"][0][\"geographies\"][\"Census Blocks\"][0][\"CENTLAT\"].encode(\"ascii\"), data[\"result\"][\"addressMatches\"][0][\"geographies\"][\"Census Blocks\"][0][\"CENTLON\"].encode(\"ascii\")"
   ]
  },
  {
   "cell_type": "code",
   "execution_count": 78,
   "metadata": {},
   "outputs": [
    {
     "data": {
      "text/plain": [
       "[u'240338024051', {'x': '+38.8477828', 'y': '-076.9266698'}]"
      ]
     },
     "execution_count": 78,
     "metadata": {},
     "output_type": "execute_result"
    }
   ],
   "source": [
    "address_to_censusblock(\"4600 Silver Hill Rd, Suitland, MD 20746\")"
   ]
  },
  {
   "cell_type": "code",
   "execution_count": 99,
   "metadata": {},
   "outputs": [],
   "source": [
    "def address_to_censusblock(address_string):\n",
    "    \"\"\"Converts address to 12 digit census block group ID using \n",
    "    census geocoder API and returns list of ID and coordinates dictionary\"\"\"\n",
    "\n",
    "    endpoint_url = \"https://geocoding.geo.census.gov/geocoder/geographies/onelineaddress\"\n",
    "    census_block = -1\n",
    "    coordinates = {\"x\": -1000., \"y\": -1000.}\n",
    "    try:\n",
    "        parameters = {\n",
    "            \"address\": address_string,\n",
    "            \"format\": \"json\",\n",
    "            \"searchtype\": \"onelineaddress\",\n",
    "            \"benchmark\":9,\n",
    "            \"vintage\": \"Census2010_Census2010\",\n",
    "            \"layer\": 14\n",
    "        }\n",
    "        response = requests.get(endpoint_url, params=parameters)\n",
    "        data = response.json()\n",
    "        census_block = data[\"result\"][\"addressMatches\"][0][\"geographies\"][\"Census Blocks\"][0][\"GEOID\"][:12].encode(\"ascii\")\n",
    "        coordinates = {\n",
    "            \"x\": data[\"result\"][\"addressMatches\"][0][\"geographies\"][\"Census Blocks\"][0][\"CENTLAT\"].encode(\"ascii\"), \n",
    "            \"y\": data[\"result\"][\"addressMatches\"][0][\"geographies\"][\"Census Blocks\"][0][\"CENTLON\"].encode(\"ascii\")\n",
    "        }\n",
    "    except:\n",
    "        print response.status_code\n",
    "        \n",
    "    return [census_block, coordinates]"
   ]
  },
  {
   "cell_type": "code",
   "execution_count": 100,
   "metadata": {},
   "outputs": [
    {
     "name": "stdout",
     "output_type": "stream",
     "text": [
      "200\n",
      "17 WILLIAM H. TAFT ROAD, CINCINNATI, OH 45219\n",
      "200\n",
      "8372 VINE STREET, CINCINNATI, OH 45216\n",
      "200\n",
      "4001 S.R. #128, CLEVES, OH 45002\n",
      "200\n",
      "7385 WOOSTER ROAD, MARIEMONT, OH 45227\n",
      "200\n",
      "8241 VINE STREET, CINCINNATI, OH 45216\n",
      "200\n",
      "3711 STONE CREEK BLVD, CINCINNATI, OH 45251\n",
      "200\n",
      "EDEN & ALBERT SABIN WAY, ML #443, CINCINNATI, OH 45219\n",
      "200\n",
      "2801 CUNNINGHAM DRIVE, CINCINNATI, OH 45241\n",
      "200\n",
      "9520 FIELDS ERTEL ROAD, LOVELAND, OH 45140\n",
      "200\n",
      "719 OHIO PIKE, CINCINNATI, OH 45245\n",
      "200\n",
      "2203 BEECHMONT AVE, CINCINNATI, OH 45230\n",
      "total time: 2.92984999816 mins\n"
     ]
    }
   ],
   "source": [
    "start = time.time()\n",
    "block_list = []\n",
    "x_list = []\n",
    "y_list = []\n",
    "idx = 0\n",
    "for address in df_rx_cinci.Address:\n",
    "    address= address.replace('\\n', ', ')\n",
    "    [census_block, coords_dict] = address_to_censusblock(address)\n",
    "    block_list.append(census_block)\n",
    "    x_list.append(coords_dict[\"x\"])\n",
    "    y_list.append(coords_dict[\"y\"])\n",
    "    idx += 1\n",
    "    if idx%500 == 0:\n",
    "        print idx, \"coordinates converted\"\n",
    "    if census_block == -1:\n",
    "        print address\n",
    "print \"total time:\",(time.time() - start)/60., \"mins\""
   ]
  },
  {
   "cell_type": "code",
   "execution_count": 111,
   "metadata": {},
   "outputs": [],
   "source": [
    "tract_list = [str(block)[:11] for block in block_list]"
   ]
  },
  {
   "cell_type": "code",
   "execution_count": 112,
   "metadata": {
    "collapsed": true
   },
   "outputs": [
    {
     "name": "stderr",
     "output_type": "stream",
     "text": [
      "C:\\Users\\isheu\\AppData\\Local\\Continuum\\Anaconda2\\lib\\site-packages\\ipykernel\\__main__.py:1: SettingWithCopyWarning: \n",
      "A value is trying to be set on a copy of a slice from a DataFrame.\n",
      "Try using .loc[row_indexer,col_indexer] = value instead\n",
      "\n",
      "See the caveats in the documentation: http://pandas.pydata.org/pandas-docs/stable/indexing.html#indexing-view-versus-copy\n",
      "  if __name__ == '__main__':\n",
      "C:\\Users\\isheu\\AppData\\Local\\Continuum\\Anaconda2\\lib\\site-packages\\ipykernel\\__main__.py:2: SettingWithCopyWarning: \n",
      "A value is trying to be set on a copy of a slice from a DataFrame.\n",
      "Try using .loc[row_indexer,col_indexer] = value instead\n",
      "\n",
      "See the caveats in the documentation: http://pandas.pydata.org/pandas-docs/stable/indexing.html#indexing-view-versus-copy\n",
      "  from ipykernel import kernelapp as app\n",
      "C:\\Users\\isheu\\AppData\\Local\\Continuum\\Anaconda2\\lib\\site-packages\\ipykernel\\__main__.py:3: SettingWithCopyWarning: \n",
      "A value is trying to be set on a copy of a slice from a DataFrame.\n",
      "Try using .loc[row_indexer,col_indexer] = value instead\n",
      "\n",
      "See the caveats in the documentation: http://pandas.pydata.org/pandas-docs/stable/indexing.html#indexing-view-versus-copy\n",
      "  app.launch_new_instance()\n",
      "C:\\Users\\isheu\\AppData\\Local\\Continuum\\Anaconda2\\lib\\site-packages\\ipykernel\\__main__.py:4: SettingWithCopyWarning: \n",
      "A value is trying to be set on a copy of a slice from a DataFrame.\n",
      "Try using .loc[row_indexer,col_indexer] = value instead\n",
      "\n",
      "See the caveats in the documentation: http://pandas.pydata.org/pandas-docs/stable/indexing.html#indexing-view-versus-copy\n"
     ]
    }
   ],
   "source": [
    "df_rx_cinci[\"CENSUS_BLOCK_ID\"] = block_list\n",
    "df_rx_cinci[\"CENSUS_TRACT_ID\"] = tract_list\n",
    "df_rx_cinci[\"LAT_X\"] = x_list\n",
    "df_rx_cinci[\"LON_y\"] = y_list"
   ]
  },
  {
   "cell_type": "code",
   "execution_count": 117,
   "metadata": {},
   "outputs": [],
   "source": [
    "# Filter out addresses that could not be mapped\n",
    "df_rx_cinci[df_rx_cinci.CENSUS_BLOCK_ID==-1].shape\n",
    "df_rx_cinci_final = df_rx_cinci[df_rx_cinci.CENSUS_BLOCK_ID != -1]"
   ]
  },
  {
   "cell_type": "code",
   "execution_count": 118,
   "metadata": {},
   "outputs": [
    {
     "name": "stdout",
     "output_type": "stream",
     "text": [
      "(106, 9)\n"
     ]
    }
   ],
   "source": [
    "# Save to file\n",
    "print df_rx_cinci_final.shape\n",
    "df_rx_cinci_final.to_csv('./Data/pharmacies_cinci_processed.csv', index=False)"
   ]
  }
 ],
 "metadata": {
  "kernelspec": {
   "display_name": "Python 3",
   "language": "python",
   "name": "python3"
  },
  "language_info": {
   "codemirror_mode": {
    "name": "ipython",
    "version": 3
   },
   "file_extension": ".py",
   "mimetype": "text/x-python",
   "name": "python",
   "nbconvert_exporter": "python",
   "pygments_lexer": "ipython3",
   "version": "3.6.3"
  }
 },
 "nbformat": 4,
 "nbformat_minor": 2
}
