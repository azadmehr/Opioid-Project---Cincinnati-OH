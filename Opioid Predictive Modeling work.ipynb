{
 "cells": [
  {
   "cell_type": "code",
   "execution_count": 1,
   "metadata": {
    "collapsed": true
   },
   "outputs": [],
   "source": [
    "import pandas as pd\n",
    "import numpy as np"
   ]
  },
  {
   "cell_type": "code",
   "execution_count": 2,
   "metadata": {},
   "outputs": [],
   "source": [
    "data = pd.read_csv('count_by_yr_Final.csv',index_col=0)"
   ]
  },
  {
   "cell_type": "code",
   "execution_count": 3,
   "metadata": {},
   "outputs": [
    {
     "data": {
      "text/plain": [
       "(128, 191)"
      ]
     },
     "execution_count": 3,
     "metadata": {},
     "output_type": "execute_result"
    }
   ],
   "source": [
    "data.shape"
   ]
  },
  {
   "cell_type": "code",
   "execution_count": 4,
   "metadata": {},
   "outputs": [
    {
     "data": {
      "text/html": [
       "<div>\n",
       "<style>\n",
       "    .dataframe thead tr:only-child th {\n",
       "        text-align: right;\n",
       "    }\n",
       "\n",
       "    .dataframe thead th {\n",
       "        text-align: left;\n",
       "    }\n",
       "\n",
       "    .dataframe tbody tr th {\n",
       "        vertical-align: top;\n",
       "    }\n",
       "</style>\n",
       "<table border=\"1\" class=\"dataframe\">\n",
       "  <thead>\n",
       "    <tr style=\"text-align: right;\">\n",
       "      <th></th>\n",
       "      <th>EMS_RESPONSE_CT</th>\n",
       "      <th>POPULATION_ESTIMATE</th>\n",
       "      <th>PCT_BELOW_POVERTY</th>\n",
       "      <th>PCT_UNEMPLOYED</th>\n",
       "      <th>PCT_SINGLE_PARENT</th>\n",
       "      <th>PCT_MINORITY</th>\n",
       "      <th>PCT_POOR_ENGLISH</th>\n",
       "      <th>PCT_OCCUPIED_HOUSING</th>\n",
       "      <th>PCT_MOBILE_HOMES</th>\n",
       "      <th>PCT_NO_VEHICLE</th>\n",
       "      <th>...</th>\n",
       "      <th>zip.BuprPhys</th>\n",
       "      <th>Longitude.BuprPhys</th>\n",
       "      <th>Latitude.BuprPhys</th>\n",
       "      <th>CensusBlock.BuprPhys</th>\n",
       "      <th>Address.BupFac</th>\n",
       "      <th>Longitude.BupFac</th>\n",
       "      <th>Latitude.BupFac</th>\n",
       "      <th>CensusBlock.BupFac</th>\n",
       "      <th>PsychPhysGRP.Count</th>\n",
       "      <th>ERGRP.Count</th>\n",
       "    </tr>\n",
       "    <tr>\n",
       "      <th>CENSUSTRACT_FIPS</th>\n",
       "      <th></th>\n",
       "      <th></th>\n",
       "      <th></th>\n",
       "      <th></th>\n",
       "      <th></th>\n",
       "      <th></th>\n",
       "      <th></th>\n",
       "      <th></th>\n",
       "      <th></th>\n",
       "      <th></th>\n",
       "      <th></th>\n",
       "      <th></th>\n",
       "      <th></th>\n",
       "      <th></th>\n",
       "      <th></th>\n",
       "      <th></th>\n",
       "      <th></th>\n",
       "      <th></th>\n",
       "      <th></th>\n",
       "      <th></th>\n",
       "      <th></th>\n",
       "    </tr>\n",
       "  </thead>\n",
       "  <tbody>\n",
       "    <tr>\n",
       "      <th>21015070100</th>\n",
       "      <td>1</td>\n",
       "      <td>6646</td>\n",
       "      <td>15.3</td>\n",
       "      <td>8.2</td>\n",
       "      <td>9.2</td>\n",
       "      <td>16.0</td>\n",
       "      <td>2.7</td>\n",
       "      <td>5.0</td>\n",
       "      <td>0.0</td>\n",
       "      <td>15.8</td>\n",
       "      <td>...</td>\n",
       "      <td>NaN</td>\n",
       "      <td>NaN</td>\n",
       "      <td>NaN</td>\n",
       "      <td>NaN</td>\n",
       "      <td>NaN</td>\n",
       "      <td>NaN</td>\n",
       "      <td>NaN</td>\n",
       "      <td>NaN</td>\n",
       "      <td>NaN</td>\n",
       "      <td>NaN</td>\n",
       "    </tr>\n",
       "    <tr>\n",
       "      <th>39061000200</th>\n",
       "      <td>15</td>\n",
       "      <td>927</td>\n",
       "      <td>46.3</td>\n",
       "      <td>32.4</td>\n",
       "      <td>18.3</td>\n",
       "      <td>91.6</td>\n",
       "      <td>1.6</td>\n",
       "      <td>1.7</td>\n",
       "      <td>0.0</td>\n",
       "      <td>65.7</td>\n",
       "      <td>...</td>\n",
       "      <td>3.0</td>\n",
       "      <td>3.0</td>\n",
       "      <td>3.0</td>\n",
       "      <td>3.0</td>\n",
       "      <td>1.0</td>\n",
       "      <td>1.0</td>\n",
       "      <td>1.0</td>\n",
       "      <td>1.0</td>\n",
       "      <td>NaN</td>\n",
       "      <td>8.0</td>\n",
       "    </tr>\n",
       "    <tr>\n",
       "      <th>39061000700</th>\n",
       "      <td>198</td>\n",
       "      <td>2038</td>\n",
       "      <td>11.5</td>\n",
       "      <td>5.0</td>\n",
       "      <td>1.2</td>\n",
       "      <td>40.1</td>\n",
       "      <td>1.8</td>\n",
       "      <td>1.8</td>\n",
       "      <td>0.0</td>\n",
       "      <td>29.7</td>\n",
       "      <td>...</td>\n",
       "      <td>1.0</td>\n",
       "      <td>1.0</td>\n",
       "      <td>1.0</td>\n",
       "      <td>1.0</td>\n",
       "      <td>1.0</td>\n",
       "      <td>1.0</td>\n",
       "      <td>1.0</td>\n",
       "      <td>1.0</td>\n",
       "      <td>6.0</td>\n",
       "      <td>6.0</td>\n",
       "    </tr>\n",
       "    <tr>\n",
       "      <th>39061000900</th>\n",
       "      <td>100</td>\n",
       "      <td>1238</td>\n",
       "      <td>55.9</td>\n",
       "      <td>18.2</td>\n",
       "      <td>16.4</td>\n",
       "      <td>48.2</td>\n",
       "      <td>0.0</td>\n",
       "      <td>1.0</td>\n",
       "      <td>0.0</td>\n",
       "      <td>36.9</td>\n",
       "      <td>...</td>\n",
       "      <td>NaN</td>\n",
       "      <td>NaN</td>\n",
       "      <td>NaN</td>\n",
       "      <td>NaN</td>\n",
       "      <td>1.0</td>\n",
       "      <td>1.0</td>\n",
       "      <td>1.0</td>\n",
       "      <td>1.0</td>\n",
       "      <td>NaN</td>\n",
       "      <td>3.0</td>\n",
       "    </tr>\n",
       "    <tr>\n",
       "      <th>39061001000</th>\n",
       "      <td>30</td>\n",
       "      <td>1452</td>\n",
       "      <td>34.1</td>\n",
       "      <td>18.2</td>\n",
       "      <td>20.7</td>\n",
       "      <td>50.1</td>\n",
       "      <td>0.3</td>\n",
       "      <td>0.7</td>\n",
       "      <td>0.0</td>\n",
       "      <td>34.8</td>\n",
       "      <td>...</td>\n",
       "      <td>1.0</td>\n",
       "      <td>1.0</td>\n",
       "      <td>1.0</td>\n",
       "      <td>1.0</td>\n",
       "      <td>NaN</td>\n",
       "      <td>NaN</td>\n",
       "      <td>NaN</td>\n",
       "      <td>NaN</td>\n",
       "      <td>5.0</td>\n",
       "      <td>2.0</td>\n",
       "    </tr>\n",
       "  </tbody>\n",
       "</table>\n",
       "<p>5 rows × 191 columns</p>\n",
       "</div>"
      ],
      "text/plain": [
       "                  EMS_RESPONSE_CT  POPULATION_ESTIMATE  PCT_BELOW_POVERTY  \\\n",
       "CENSUSTRACT_FIPS                                                            \n",
       "21015070100                     1                 6646               15.3   \n",
       "39061000200                    15                  927               46.3   \n",
       "39061000700                   198                 2038               11.5   \n",
       "39061000900                   100                 1238               55.9   \n",
       "39061001000                    30                 1452               34.1   \n",
       "\n",
       "                  PCT_UNEMPLOYED  PCT_SINGLE_PARENT  PCT_MINORITY  \\\n",
       "CENSUSTRACT_FIPS                                                    \n",
       "21015070100                  8.2                9.2          16.0   \n",
       "39061000200                 32.4               18.3          91.6   \n",
       "39061000700                  5.0                1.2          40.1   \n",
       "39061000900                 18.2               16.4          48.2   \n",
       "39061001000                 18.2               20.7          50.1   \n",
       "\n",
       "                  PCT_POOR_ENGLISH  PCT_OCCUPIED_HOUSING  PCT_MOBILE_HOMES  \\\n",
       "CENSUSTRACT_FIPS                                                             \n",
       "21015070100                    2.7                   5.0               0.0   \n",
       "39061000200                    1.6                   1.7               0.0   \n",
       "39061000700                    1.8                   1.8               0.0   \n",
       "39061000900                    0.0                   1.0               0.0   \n",
       "39061001000                    0.3                   0.7               0.0   \n",
       "\n",
       "                  PCT_NO_VEHICLE     ...       zip.BuprPhys  \\\n",
       "CENSUSTRACT_FIPS                     ...                      \n",
       "21015070100                 15.8     ...                NaN   \n",
       "39061000200                 65.7     ...                3.0   \n",
       "39061000700                 29.7     ...                1.0   \n",
       "39061000900                 36.9     ...                NaN   \n",
       "39061001000                 34.8     ...                1.0   \n",
       "\n",
       "                  Longitude.BuprPhys  Latitude.BuprPhys  CensusBlock.BuprPhys  \\\n",
       "CENSUSTRACT_FIPS                                                                \n",
       "21015070100                      NaN                NaN                   NaN   \n",
       "39061000200                      3.0                3.0                   3.0   \n",
       "39061000700                      1.0                1.0                   1.0   \n",
       "39061000900                      NaN                NaN                   NaN   \n",
       "39061001000                      1.0                1.0                   1.0   \n",
       "\n",
       "                  Address.BupFac  Longitude.BupFac  Latitude.BupFac  \\\n",
       "CENSUSTRACT_FIPS                                                      \n",
       "21015070100                  NaN               NaN              NaN   \n",
       "39061000200                  1.0               1.0              1.0   \n",
       "39061000700                  1.0               1.0              1.0   \n",
       "39061000900                  1.0               1.0              1.0   \n",
       "39061001000                  NaN               NaN              NaN   \n",
       "\n",
       "                  CensusBlock.BupFac  PsychPhysGRP.Count  ERGRP.Count  \n",
       "CENSUSTRACT_FIPS                                                       \n",
       "21015070100                      NaN                 NaN          NaN  \n",
       "39061000200                      1.0                 NaN          8.0  \n",
       "39061000700                      1.0                 6.0          6.0  \n",
       "39061000900                      1.0                 NaN          3.0  \n",
       "39061001000                      NaN                 5.0          2.0  \n",
       "\n",
       "[5 rows x 191 columns]"
      ]
     },
     "execution_count": 4,
     "metadata": {},
     "output_type": "execute_result"
    }
   ],
   "source": [
    "data.fillna(0)\n",
    "data.head()"
   ]
  },
  {
   "cell_type": "code",
   "execution_count": 5,
   "metadata": {},
   "outputs": [],
   "source": [
    "from sklearn.model_selection import train_test_split\n",
    "from sklearn.linear_model import LogisticRegression\n",
    "from sklearn.linear_model import LogisticRegressionCV\n",
    "from sklearn.metrics import accuracy_score"
   ]
  },
  {
   "cell_type": "markdown",
   "metadata": {},
   "source": [
    "### Below is attempt at using LOGISTIC REGRESSION and train_test_split to analyze variables' correlation with outcome"
   ]
  },
  {
   "cell_type": "code",
   "execution_count": 6,
   "metadata": {
    "collapsed": true
   },
   "outputs": [],
   "source": [
    "Xlr, Xtestlr, ylr, ytestlr = train_test_split(data[data.columns.difference(['EMS_RESPONSE_CT'])], \n",
    "                                              data['EMS_RESPONSE_CT'],random_state=5)\n"
   ]
  },
  {
   "cell_type": "code",
   "execution_count": 7,
   "metadata": {
    "collapsed": true
   },
   "outputs": [],
   "source": [
    "Xlr = Xlr.fillna(-1)\n",
    "Xlr = Xlr.replace(np.nan, -2)\n",
    "#Y = Y.fillna(-1)\n",
    "#Y = Y.replace(np.nan, -2)\n",
    "Xtestlr = Xtestlr.fillna(-1)\n",
    "Xtestlr = Xtestlr.replace(np.nan, -2)"
   ]
  },
  {
   "cell_type": "code",
   "execution_count": 8,
   "metadata": {},
   "outputs": [
    {
     "data": {
      "text/plain": [
       "LogisticRegression(C=1.0, class_weight=None, dual=False, fit_intercept=True,\n",
       "          intercept_scaling=1, max_iter=100, multi_class='ovr', n_jobs=1,\n",
       "          penalty='l2', random_state=None, solver='liblinear', tol=0.0001,\n",
       "          verbose=0, warm_start=False)"
      ]
     },
     "execution_count": 8,
     "metadata": {},
     "output_type": "execute_result"
    }
   ],
   "source": [
    "LogReg = LogisticRegression()\n",
    "LogReg.fit(Xlr, ylr)"
   ]
  },
  {
   "cell_type": "code",
   "execution_count": 9,
   "metadata": {},
   "outputs": [
    {
     "name": "stdout",
     "output_type": "stream",
     "text": [
      "0.03125\n"
     ]
    }
   ],
   "source": [
    "\n",
    "# Print the accuracy from the testing data.\n",
    "print(accuracy_score(LogReg.predict(Xtestlr), ytestlr))"
   ]
  },
  {
   "cell_type": "markdown",
   "metadata": {},
   "source": [
    "### \n",
    "\n",
    "\n",
    "\n",
    "### Running a RandomForestDecisionTree model below"
   ]
  },
  {
   "cell_type": "code",
   "execution_count": 10,
   "metadata": {},
   "outputs": [],
   "source": [
    "import seaborn as sns\n",
    "from matplotlib import pyplot as plt "
   ]
  },
  {
   "cell_type": "code",
   "execution_count": 11,
   "metadata": {},
   "outputs": [],
   "source": [
    "from sklearn.ensemble import RandomForestRegressor\n",
    "#mention this as detour in EDA\n",
    "X = data[data.columns.difference(['EMS_RESPONSE_CT'])]\n",
    "Y = data['EMS_RESPONSE_CT']\n",
    "names = data.columns\n"
   ]
  },
  {
   "cell_type": "code",
   "execution_count": 12,
   "metadata": {
    "collapsed": true
   },
   "outputs": [],
   "source": [
    "X = X.fillna(-1)\n",
    "X = X.replace(np.nan, -2)\n",
    "Y = Y.fillna(-1)\n",
    "Y = Y.replace(np.nan, -2)"
   ]
  },
  {
   "cell_type": "code",
   "execution_count": 13,
   "metadata": {},
   "outputs": [
    {
     "data": {
      "text/plain": [
       "RandomForestRegressor(bootstrap=True, criterion='mse', max_depth=None,\n",
       "           max_features='auto', max_leaf_nodes=None,\n",
       "           min_impurity_decrease=0.0, min_impurity_split=None,\n",
       "           min_samples_leaf=1, min_samples_split=2,\n",
       "           min_weight_fraction_leaf=0.0, n_estimators=10, n_jobs=-1,\n",
       "           oob_score=False, random_state=None, verbose=0, warm_start=False)"
      ]
     },
     "execution_count": 13,
     "metadata": {},
     "output_type": "execute_result"
    }
   ],
   "source": [
    "#Running on Random Forest Classifier model\n",
    "rf = RandomForestRegressor(n_jobs=-1)\n",
    "rf.fit(X, Y)\n"
   ]
  },
  {
   "cell_type": "code",
   "execution_count": 14,
   "metadata": {},
   "outputs": [
    {
     "name": "stdout",
     "output_type": "stream",
     "text": [
      "                                           0  \\\n",
      "1                                              \n",
      "total_claim_count_ge65.PUFNPIMean   0.302919   \n",
      "total_30_day_fill_count.PUFNPIMean  0.099637   \n",
      "VEHICLE_LOW_ACCESS_HALF_MILE_S      0.061735   \n",
      "PCT_NO_HIGH_SCHOOL                  0.057185   \n",
      "total_day_supply.PUFNPIMean         0.051920   \n",
      "VEHICLE_LOW_ACCESS_HALF_MILE_N      0.050982   \n",
      "VEHICLE_LOW_ACCESS_20_MILES_N       0.049235   \n",
      "total_claim_count.PUFNPIMean        0.034401   \n",
      "bene_count.PUFNPIMean               0.033612   \n",
      "VEHICLE_LOW_ACCESS_1_MILE_S         0.024883   \n",
      "\n",
      "                                                                     1  \n",
      "1                                                                       \n",
      "total_claim_count_ge65.PUFNPIMean    total_claim_count_ge65.PUFNPIMean  \n",
      "total_30_day_fill_count.PUFNPIMean  total_30_day_fill_count.PUFNPIMean  \n",
      "VEHICLE_LOW_ACCESS_HALF_MILE_S          VEHICLE_LOW_ACCESS_HALF_MILE_S  \n",
      "PCT_NO_HIGH_SCHOOL                                  PCT_NO_HIGH_SCHOOL  \n",
      "total_day_supply.PUFNPIMean                total_day_supply.PUFNPIMean  \n",
      "VEHICLE_LOW_ACCESS_HALF_MILE_N          VEHICLE_LOW_ACCESS_HALF_MILE_N  \n",
      "VEHICLE_LOW_ACCESS_20_MILES_N            VEHICLE_LOW_ACCESS_20_MILES_N  \n",
      "total_claim_count.PUFNPIMean              total_claim_count.PUFNPIMean  \n",
      "bene_count.PUFNPIMean                            bene_count.PUFNPIMean  \n",
      "VEHICLE_LOW_ACCESS_1_MILE_S                VEHICLE_LOW_ACCESS_1_MILE_S  \n"
     ]
    },
    {
     "data": {
      "image/png": "[encoded data removed]",
      "text/plain": [
       "<matplotlib.figure.Figure at 0x106948be0>"
      ]
     },
     "metadata": {},
     "output_type": "display_data"
    }
   ],
   "source": [
    "\n",
    "EMS_Response = pd.DataFrame(sorted(zip(rf.feature_importances_,names),reverse=True)[:10])\n",
    "EMS_Response = EMS_Response.set_index(EMS_Response[1],drop=True)\n",
    "print(EMS_Response)\n",
    "sns.barplot(x=EMS_Response[1], y=EMS_Response[0])\n",
    "plt.xticks(rotation=45)\n",
    "plt.title(\"EMS OD Feature importances\")\n",
    "plt.show()"
   ]
  },
  {
   "cell_type": "code",
   "execution_count": null,
   "metadata": {
    "collapsed": true
   },
   "outputs": [],
   "source": []
  }
 ],
 "metadata": {
  "kernelspec": {
   "display_name": "Python 3",
   "language": "python",
   "name": "python3"
  },
  "language_info": {
   "codemirror_mode": {
    "name": "ipython",
    "version": 3
   },
   "file_extension": ".py",
   "mimetype": "text/x-python",
   "name": "python",
   "nbconvert_exporter": "python",
   "pygments_lexer": "ipython3",
   "version": "3.6.3"
  }
 },
 "nbformat": 4,
 "nbformat_minor": 2
}
